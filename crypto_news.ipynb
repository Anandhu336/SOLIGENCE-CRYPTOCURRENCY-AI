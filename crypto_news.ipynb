{
 "cells": [
  {
   "cell_type": "code",
   "execution_count": null,
   "id": "d8b81bd0-0af1-440c-8ba8-fd024fa4ab89",
   "metadata": {},
   "outputs": [],
   "source": [
    "import requests\n",
    "\n",
    "def get_crypto_news():\n",
    "    \"\"\"\n",
    "    Fetch recent general news articles related to cryptocurrency using News API.\n",
    "\n",
    "    Returns:\n",
    "        list: A list of dictionaries containing news headlines and URLs.\n",
    "    \"\"\"\n",
    "    # News API key \n",
    "    api_key = \"af96863d87c5451ca6fa05f49f0eb043\"\n",
    "\n",
    "    # News API endpoint\n",
    "    url = \"https://newsapi.org/v2/everything\"\n",
    "\n",
    "    # Define query parameters\n",
    "    params = {\n",
    "        \"q\": \"cryptocurrency OR blockchain OR crypto\",  \n",
    "        \"sortBy\": \"publishedAt\",  \n",
    "        \"apiKey\": api_key,  # API key for authentication\n",
    "        \"language\": \"en\",  \n",
    "        \"pageSize\": 5  # Limit to 5 articles\n",
    "    }\n",
    "\n",
    "    # Fetch news data\n",
    "    try:\n",
    "        response = requests.get(url, params=params)\n",
    "        response.raise_for_status()\n",
    "        news_data = response.json()\n",
    "\n",
    "        # Extract relevant news\n",
    "        news_articles = []\n",
    "        for article in news_data.get(\"articles\", []):\n",
    "            news_articles.append({\n",
    "                \"title\": article.get(\"title\"),\n",
    "                \"url\": article.get(\"url\"),\n",
    "                \"published_at\": article.get(\"publishedAt\"),\n",
    "                \"source\": article.get(\"source\", {}).get(\"name\")\n",
    "            })\n",
    "\n",
    "        return news_articles\n",
    "    except Exception as e:\n",
    "        print(f\"Failed to fetch news: {e}\")\n",
    "        return []"
   ]
  }
 ],
 "metadata": {
  "kernelspec": {
   "display_name": "Python 3 (ipykernel)",
   "language": "python",
   "name": "python3"
  },
  "language_info": {
   "codemirror_mode": {
    "name": "ipython",
    "version": 3
   },
   "file_extension": ".py",
   "mimetype": "text/x-python",
   "name": "python",
   "nbconvert_exporter": "python",
   "pygments_lexer": "ipython3",
   "version": "3.11.10"
  }
 },
 "nbformat": 4,
 "nbformat_minor": 5
}
