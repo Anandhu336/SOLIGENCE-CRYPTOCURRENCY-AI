{
 "cells": [
  {
   "cell_type": "code",
   "execution_count": 1,
   "id": "9ade2fa6-523e-4a66-b842-55c6e608db10",
   "metadata": {},
   "outputs": [
    {
     "name": "stdout",
     "output_type": "stream",
     "text": [
      "Reshaped dataset saved as 'reshaped_crypto_data_wide.csv'\n"
     ]
    }
   ],
   "source": [
    "import pandas as pd\n",
    "\n",
    "# Load the dataset\n",
    "file_path = 'crypto_cleaned_data.csv'\n",
    "crypto_data = pd.read_csv(file_path)\n",
    "\n",
    "# Reshape the dataset\n",
    "columns_to_melt = [col for col in crypto_data.columns if col != 'Date']\n",
    "\n",
    "# Melting the dataset to long format\n",
    "crypto_long = crypto_data.melt(\n",
    "    id_vars=['Date'],\n",
    "    value_vars=columns_to_melt,\n",
    "    var_name='Symbol_Attribute',\n",
    "    value_name='Value'\n",
    ")\n",
    "\n",
    "# Splitting 'Symbol_Attribute' into 'Symbol' and 'Attribute'\n",
    "crypto_long[['Symbol', 'Attribute']] = crypto_long['Symbol_Attribute'].str.extract(r'([^_]+)_([^_]+)')\n",
    "\n",
    "# Pivoting back to wide format with separate columns for attributes\n",
    "crypto_wide = crypto_long.pivot_table(\n",
    "    index=['Date', 'Symbol'], \n",
    "    columns='Attribute', \n",
    "    values='Value'\n",
    ").reset_index()\n",
    "\n",
    "\n",
    "\n",
    "\n",
    "crypto_wide.to_csv('reshaped_crypto_data_wide.csv', index=False)\n",
    "print(\"Reshaped dataset saved as 'reshaped_crypto_data_wide.csv'\")"
   ]
  },
  {
   "cell_type": "markdown",
   "id": "ab40d08b-ed11-4e1a-b71d-b7643a2acafe",
   "metadata": {},
   "source": [
    "Cluster into groups "
   ]
  },
  {
   "cell_type": "code",
   "execution_count": 4,
   "id": "0a433098-f76f-43f4-8949-b17ad5556a92",
   "metadata": {},
   "outputs": [
    {
     "name": "stdout",
     "output_type": "stream",
     "text": [
      "Date            26-12-2023  27-12-2023  28-12-2023  29-12-2023  30-12-2023  \\\n",
      "Cryptocurrency                                                               \n",
      "ADA               0.608799    0.633535    0.617422    0.608494    0.601964   \n",
      "ALGO              0.234494    0.229226    0.234213    0.226423    0.221767   \n",
      "APT               0.003642    0.001969    0.002115    0.004423    0.002284   \n",
      "ARB               0.000425    0.000434    0.000426    0.000421    0.000422   \n",
      "ATOM             11.616012   11.965517   11.429394   10.991527   10.766783   \n",
      "\n",
      "Date            31-12-2023  01-01-2024  02-01-2024  03-01-2024  04-01-2024  \\\n",
      "Cryptocurrency                                                               \n",
      "ADA               0.594205    0.623110    0.605667    0.557286    0.570567   \n",
      "ALGO              0.222777    0.238981    0.226959    0.204728    0.207866   \n",
      "APT               0.002418    0.002295    0.004057    0.002494    0.002184   \n",
      "ARB               0.000423    0.000442    0.000460    0.000428    0.000442   \n",
      "ATOM             10.591960   11.197029   10.983018    9.932850   10.264856   \n",
      "\n",
      "Date            ...  15-12-2024  16-12-2024  17-12-2024  18-12-2024  \\\n",
      "Cryptocurrency  ...                                                   \n",
      "ADA             ...    1.101708    1.078856    1.051525    0.968420   \n",
      "ALGO            ...    0.430749    0.413686    0.413019    0.367352   \n",
      "APT             ...    0.000225    0.000224    0.000216    0.000215   \n",
      "ARB             ...    0.001044    0.001060    0.001062    0.001002   \n",
      "ATOM            ...    9.096175    8.891530    8.525103    7.651524   \n",
      "\n",
      "Date            19-12-2024  20-12-2024  21-12-2024  22-12-2024  23-12-2024  \\\n",
      "Cryptocurrency                                                               \n",
      "ADA               0.885502    0.951011    0.904694    0.882976    0.924246   \n",
      "ALGO              0.333495    0.347570    0.328528    0.347588    0.375027   \n",
      "APT               0.000215    0.000201    0.000201    0.000195    0.000193   \n",
      "ARB               0.000976    0.000977    0.000973    0.000951    0.000947   \n",
      "ATOM              6.842153    6.909795    6.516861    6.398768    6.936603   \n",
      "\n",
      "Date            24-12-2024  \n",
      "Cryptocurrency              \n",
      "ADA               0.936460  \n",
      "ALGO              0.396752  \n",
      "APT               0.000207  \n",
      "ARB               0.000987  \n",
      "ATOM              7.050850  \n",
      "\n",
      "[5 rows x 365 columns]\n"
     ]
    },
    {
     "name": "stderr",
     "output_type": "stream",
     "text": [
      "/var/folders/_s/s7gr01nn3jn52_zd_my2hsdr0000gn/T/ipykernel_52176/4204165312.py:15: SettingWithCopyWarning: \n",
      "A value is trying to be set on a copy of a slice from a DataFrame.\n",
      "Try using .loc[row_indexer,col_indexer] = value instead\n",
      "\n",
      "See the caveats in the documentation: https://pandas.pydata.org/pandas-docs/stable/user_guide/indexing.html#returning-a-view-versus-a-copy\n",
      "  reshaped_data[date_column] = pd.to_datetime(reshaped_data[date_column])\n"
     ]
    }
   ],
   "source": [
    "import pandas as pd\n",
    "\n",
    "# Load the dataset\n",
    "file_path = 'crypto_complete_data_1_year.csv'\n",
    "crypto_data = pd.read_csv(file_path)\n",
    "\n",
    "# Extract date column and cryptocurrency names with \"Adj_Close\"\n",
    "date_column = \"Date\"\n",
    "crypto_columns = [col for col in crypto_data.columns if \"Adj_Close\" in col]\n",
    "\n",
    "# Keep only the Date and relevant \"Adj_Close\" columns\n",
    "reshaped_data = crypto_data[[date_column] + crypto_columns]\n",
    "\n",
    "# Convert Date to a standard datetime format\n",
    "reshaped_data[date_column] = pd.to_datetime(reshaped_data[date_column])\n",
    "\n",
    "# Melt the data to have 'Cryptocurrency' as a variable and 'Adj_Close' as values\n",
    "melted_data = reshaped_data.melt(id_vars=[date_column], \n",
    "                                 var_name=\"Cryptocurrency\", \n",
    "                                 value_name=\"Adj_Close\")\n",
    "\n",
    "# Extract cryptocurrency from column names\n",
    "melted_data['Cryptocurrency'] = melted_data['Cryptocurrency'].str.split('-').str[0]\n",
    "\n",
    "# Pivot the data to make rows as cryptocurrencies and columns as dates\n",
    "pivoted_data = melted_data.pivot(index=\"Cryptocurrency\", \n",
    "                                 columns=date_column, \n",
    "                                 values=\"Adj_Close\")\n",
    "\n",
    "# Sort columns by date for clarity\n",
    "pivoted_data = pivoted_data.sort_index(axis=1)\n",
    "\n",
    "# Reformat the column dates to 'DD-MM-YYYY' format\n",
    "pivoted_data.columns = pivoted_data.columns.to_series().apply(lambda x: pd.to_datetime(x).strftime('%d-%m-%Y'))\n",
    "\n",
    "# Save the transformed DataFrame to a CSV file\n",
    "pivoted_data.to_csv('transformed_cryptocurrency_data.csv')\n",
    "\n",
    "\n",
    "print(pivoted_data.head())"
   ]
  },
  {
   "cell_type": "code",
   "execution_count": 6,
   "id": "badafe03-2bf0-4743-9896-ffd44c8e4eef",
   "metadata": {},
   "outputs": [
    {
     "name": "stdout",
     "output_type": "stream",
     "text": [
      "Silhouette Score for 4 clusters: 0.8273719007681738\n",
      "\n",
      "Selected cryptocurrency from each cluster:\n",
      "Cluster 0: TRX\n",
      "Cluster 1: BTC\n",
      "Cluster 2: ETH\n",
      "Cluster 3: BCH\n"
     ]
    },
    {
     "data": {
      "image/png": "[encoded data removed]",
      "text/plain": [
       "<Figure size 800x600 with 1 Axes>"
      ]
     },
     "metadata": {},
     "output_type": "display_data"
    }
   ],
   "source": [
    "import pandas as pd\n",
    "from sklearn.decomposition import PCA\n",
    "from sklearn.cluster import KMeans\n",
    "from sklearn.preprocessing import StandardScaler\n",
    "from sklearn.metrics import silhouette_score\n",
    "import matplotlib.pyplot as plt\n",
    "\n",
    "# Load your dataset\n",
    "file_path = 'transformed_cryptocurrency_data.csv'  \n",
    "pivoted_data = pd.read_csv(file_path, index_col=0)\n",
    "\n",
    "#  Handle Missing Values with Linear Interpolation\n",
    "pivoted_data = pivoted_data.interpolate(method='linear')\n",
    "\n",
    "#  Standardize the data for PCA\n",
    "scaler = StandardScaler()\n",
    "pivoted_data_scaled = scaler.fit_transform(pivoted_data)\n",
    "\n",
    "#  Apply PCA to reduce dimensionality to 10 components\n",
    "pca = PCA(n_components=10)\n",
    "pca_result = pca.fit_transform(pivoted_data_scaled)\n",
    "\n",
    "# Create a DataFrame for PCA results\n",
    "pca_columns = [f'PC{i+1}' for i in range(10)]\n",
    "pca_df = pd.DataFrame(pca_result, columns=pca_columns, index=pivoted_data.index)\n",
    "\n",
    "#  Perform clustering on PCA-reduced data\n",
    "n_clusters = 4  \n",
    "kmeans = KMeans(n_clusters=n_clusters, random_state=42)\n",
    "pca_df['Cluster'] = kmeans.fit_predict(pca_result)\n",
    "\n",
    "#  Compute the Silhouette Score\n",
    "silhouette_avg = silhouette_score(pca_result, pca_df['Cluster'])\n",
    "print(f\"Silhouette Score for {n_clusters} clusters: {silhouette_avg}\")\n",
    "\n",
    "# Save the PCA and clustering results\n",
    "pca_df.to_csv('pca_10_components_and_clustering_results.csv')\n",
    "\n",
    "#  Select one cryptocurrency from each cluster and print it\n",
    "print(\"\\nSelected cryptocurrency from each cluster:\")\n",
    "for cluster, group in pca_df.groupby('Cluster'):\n",
    "    selected_crypto = group.sample(1) \n",
    "    print(f\"Cluster {cluster}: {selected_crypto.index[0]}\")\n",
    "\n",
    "# Visualize the first two PCA components and clusters\n",
    "plt.figure(figsize=(8, 6))\n",
    "for cluster in pca_df['Cluster'].unique():\n",
    "    cluster_data = pca_df[pca_df['Cluster'] == cluster]\n",
    "    plt.scatter(cluster_data['PC1'], cluster_data['PC2'], label=f'Cluster {cluster}')\n",
    "    \n",
    "plt.title('Clusters Based on PCA Components (PC1 vs PC2)')\n",
    "plt.xlabel('Principal Component 1 (PC1)')\n",
    "plt.ylabel('Principal Component 2 (PC2)')\n",
    "plt.legend()\n",
    "plt.grid()\n",
    "plt.show()"
   ]
  },
  {
   "cell_type": "code",
   "execution_count": null,
   "id": "99d84b41-18d5-41cf-9302-46a5b4c57694",
   "metadata": {},
   "outputs": [],
   "source": []
  }
 ],
 "metadata": {
  "kernelspec": {
   "display_name": "COM724",
   "language": "python",
   "name": "com724"
  },
  "language_info": {
   "codemirror_mode": {
    "name": "ipython",
    "version": 3
   },
   "file_extension": ".py",
   "mimetype": "text/x-python",
   "name": "python",
   "nbconvert_exporter": "python",
   "pygments_lexer": "ipython3",
   "version": "3.11.10"
  }
 },
 "nbformat": 4,
 "nbformat_minor": 5
}
