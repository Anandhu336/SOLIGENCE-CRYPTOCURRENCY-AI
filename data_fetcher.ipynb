{
 "cells": [
  {
   "cell_type": "code",
   "execution_count": 1,
   "id": "37b81690-c0e2-4d1d-b193-c73dc98b62c5",
   "metadata": {},
   "outputs": [
    {
     "name": "stderr",
     "output_type": "stream",
     "text": [
      "[*********************100%***********************]  1 of 1 completed"
     ]
    },
    {
     "name": "stdout",
     "output_type": "stream",
     "text": [
      "Downloading data for BTC-USD...\n",
      "Downloading data for ETH-USD...\n"
     ]
    },
    {
     "name": "stderr",
     "output_type": "stream",
     "text": [
      "\n",
      "[*********************100%***********************]  1 of 1 completed\n",
      "[*********************100%***********************]  1 of 1 completed\n",
      "[*********************100%***********************]  1 of 1 completed\n",
      "[*********************100%***********************]  1 of 1 completed\n"
     ]
    },
    {
     "name": "stdout",
     "output_type": "stream",
     "text": [
      "Downloading data for ADA-USD...\n",
      "Downloading data for BNB-USD...\n",
      "Downloading data for XRP-USD...\n",
      "Downloading data for SOL-USD...\n"
     ]
    },
    {
     "name": "stderr",
     "output_type": "stream",
     "text": [
      "[*********************100%***********************]  1 of 1 completed\n",
      "[*********************100%***********************]  1 of 1 completed\n",
      "[*********************100%***********************]  1 of 1 completed\n",
      "[*********************100%***********************]  1 of 1 completed\n"
     ]
    },
    {
     "name": "stdout",
     "output_type": "stream",
     "text": [
      "Downloading data for DOT-USD...\n",
      "Downloading data for DOGE-USD...\n",
      "Downloading data for MATIC-USD...\n",
      "Downloading data for LTC-USD...\n"
     ]
    },
    {
     "name": "stderr",
     "output_type": "stream",
     "text": [
      "[*********************100%***********************]  1 of 1 completed\n",
      "[*********************100%***********************]  1 of 1 completed\n",
      "[*********************100%***********************]  1 of 1 completed\n",
      "[*********************100%***********************]  1 of 1 completed\n"
     ]
    },
    {
     "name": "stdout",
     "output_type": "stream",
     "text": [
      "Downloading data for BCH-USD...\n",
      "Downloading data for TRX-USD...\n",
      "Downloading data for AVAX-USD...\n",
      "Downloading data for LINK-USD...\n"
     ]
    },
    {
     "name": "stderr",
     "output_type": "stream",
     "text": [
      "[*********************100%***********************]  1 of 1 completed\n",
      "[*********************100%***********************]  1 of 1 completed\n",
      "[*********************100%***********************]  1 of 1 completed\n",
      "[*********************100%***********************]  1 of 1 completed\n"
     ]
    },
    {
     "name": "stdout",
     "output_type": "stream",
     "text": [
      "Downloading data for ATOM-USD...\n",
      "Downloading data for XLM-USD...\n",
      "Downloading data for ALGO-USD...\n",
      "Downloading data for VET-USD...\n"
     ]
    },
    {
     "name": "stderr",
     "output_type": "stream",
     "text": [
      "[*********************100%***********************]  1 of 1 completed\n",
      "[*********************100%***********************]  1 of 1 completed\n",
      "[*********************100%***********************]  1 of 1 completed\n",
      "[*********************100%***********************]  1 of 1 completed\n"
     ]
    },
    {
     "name": "stdout",
     "output_type": "stream",
     "text": [
      "Downloading data for XTZ-USD...\n",
      "Downloading data for ARB-USD...\n",
      "Downloading data for OP-USD...\n",
      "Downloading data for APT-USD...\n"
     ]
    },
    {
     "name": "stderr",
     "output_type": "stream",
     "text": [
      "[*********************100%***********************]  1 of 1 completed\n",
      "[*********************100%***********************]  1 of 1 completed\n",
      "[*********************100%***********************]  1 of 1 completed\n",
      "[*********************100%***********************]  1 of 1 completed\n"
     ]
    },
    {
     "name": "stdout",
     "output_type": "stream",
     "text": [
      "Downloading data for SUI-USD...\n",
      "Downloading data for FTM-USD...\n",
      "Downloading data for NEAR-USD...\n",
      "Data for 30 cryptocurrencies (with Open, High, Low, Adj Close, Volume) saved to: crypto_complete_data_1_year.csv\n"
     ]
    }
   ],
   "source": [
    "#FOR MODEL IMPLEMENTATION\n",
    "\n",
    "\n",
    "import yfinance as yf\n",
    "import pandas as pd\n",
    "from datetime import datetime, timedelta\n",
    "\n",
    "#   30 cryptocurrencies \n",
    "cryptos = [\n",
    "    \"BTC-USD\", \"ETH-USD\", \"ADA-USD\", \"BNB-USD\", \"XRP-USD\",\n",
    "    \"SOL-USD\", \"DOT-USD\", \"DOGE-USD\", \"MATIC-USD\", \"LTC-USD\",\n",
    "    \"BCH-USD\", \"TRX-USD\", \"AVAX-USD\", \"LINK-USD\", \"ATOM-USD\",\n",
    "    \"XLM-USD\", \"ALGO-USD\", \"VET-USD\", \"XTZ-USD\", \"ARB-USD\",\n",
    "    \"OP-USD\", \"APT-USD\", \"SUI-USD\", \"FTM-USD\", \"NEAR-USD\"\n",
    "]\n",
    "\n",
    "#  date range for the past year\n",
    "end_date = datetime.now()\n",
    "start_date = end_date - timedelta(days=365)  \n",
    "\n",
    "# Initialize an empty DataFrame to store all data\n",
    "all_crypto_data = pd.DataFrame()\n",
    "failed_cryptos = []\n",
    "\n",
    "# Loop through each cryptocurrency and download data\n",
    "for crypto in cryptos:\n",
    "    print(f\"Downloading data for {crypto}...\")\n",
    "    try:\n",
    "        # Download data\n",
    "        data = yf.download(crypto, start=start_date.strftime(\"%Y-%m-%d\"), end=end_date.strftime(\"%Y-%m-%d\"))\n",
    "        \n",
    "        # Check if data is returned\n",
    "        if data.empty:\n",
    "            print(f\"No data found for {crypto}. Adding to the failed list.\")\n",
    "            failed_cryptos.append(crypto)\n",
    "            continue\n",
    "        \n",
    "        \n",
    "        selected_columns = data[['Open', 'High', 'Low', 'Adj Close', 'Volume']].copy()\n",
    "        selected_columns.columns = [\n",
    "            f\"{crypto}_Open\", f\"{crypto}_High\", f\"{crypto}_Low\",\n",
    "            f\"{crypto}_Adj_Close\", f\"{crypto}_Volume\"\n",
    "        ]\n",
    "        \n",
    "        \n",
    "        if all_crypto_data.empty:\n",
    "            all_crypto_data = selected_columns\n",
    "        else:\n",
    "            all_crypto_data = all_crypto_data.join(selected_columns, how='outer')\n",
    "    \n",
    "    except Exception as e:\n",
    "        print(f\"Failed to download data for {crypto}: {e}\")\n",
    "        failed_cryptos.append(crypto)\n",
    "\n",
    "# Check if any cryptocurrencies failed to download\n",
    "if len(failed_cryptos) > 0:\n",
    "    print(f\"The following cryptocurrencies failed to download: {failed_cryptos}\")\n",
    "    print(\"Ensure all symbols are valid and available in Yahoo Finance.\")\n",
    "    print(\"Stopping the script to allow for corrections.\")\n",
    "    exit()\n",
    "\n",
    "\n",
    "all_crypto_data.reset_index(inplace=True)\n",
    "\n",
    "# Save to a CSV file\n",
    "output_file = \"crypto_complete_data_1_year.csv\"\n",
    "all_crypto_data.to_csv(output_file, index=False)\n",
    "\n",
    "print(f\"Data for 30 cryptocurrencies (with Open, High, Low, Adj Close, Volume) saved to: {output_file}\")"
   ]
  },
  {
   "cell_type": "code",
   "execution_count": 2,
   "id": "8870e204-8d8a-4c88-966e-e884b8728b41",
   "metadata": {},
   "outputs": [
    {
     "name": "stdout",
     "output_type": "stream",
     "text": [
      "Cleaned dataset saved to: crypto_cleaned_data.csv\n"
     ]
    }
   ],
   "source": [
    "import pandas as pd\n",
    "\n",
    "# Load the dataset\n",
    "input_file = \"crypto_complete_data_1_year.csv\"  \n",
    "crypto_data = pd.read_csv(input_file)\n",
    "\n",
    "# Convert 'Date' column to datetime and remove the time component\n",
    "if 'Date' in crypto_data.columns:\n",
    "    crypto_data['Date'] = pd.to_datetime(crypto_data['Date']).dt.date  \n",
    "\n",
    "#  Drop duplicate rows\n",
    "crypto_data = crypto_data.drop_duplicates()\n",
    "\n",
    "#  Save the cleaned dataset \n",
    "output_file = \"crypto_cleaned_data.csv\"\n",
    "crypto_data.to_csv(output_file, index=False)\n",
    "\n",
    "print(f\"Cleaned dataset saved to: {output_file}\")"
   ]
  },
  {
   "cell_type": "code",
   "execution_count": 3,
   "id": "3fa529b6-8fb0-4b21-a6c2-8dc4d591467f",
   "metadata": {},
   "outputs": [],
   "source": [
    "#FOR GUI IMPLEMENTATION\n",
    "\n",
    "import yfinance as yf\n",
    "import pandas as pd\n",
    "\n",
    "\n",
    "def get_crypto_data_realtime(crypto_name, start_date=None, end_date=None):\n",
    "    \"\"\"\n",
    "    Fetch, preprocess, and clean real-time historical data for the given cryptocurrency using Yahoo Finance.\n",
    "\n",
    "    \n",
    "\n",
    "    Returns:\n",
    "        pandas.DataFrame: Preprocessed DataFrame containing Date, open, high, low, close, volume, and moving averages.\n",
    "    \"\"\"\n",
    "    # Define valid cryptocurrency symbols for Yahoo Finance\n",
    "    symbol_map = {\n",
    "        \"LTC-USD\": \"LTC-USD\",\n",
    "        \"BTC-USD\": \"BTC-USD\",\n",
    "        \"ETH-USD\": \"ETH-USD\",\n",
    "        \"BCH-USD\": \"BCH-USD\",\n",
    "    }\n",
    "\n",
    "    # Validate the cryptocurrency name\n",
    "    symbol = symbol_map.get(crypto_name)\n",
    "    if not symbol:\n",
    "        raise ValueError(f\"Invalid cryptocurrency name: {crypto_name}. Please select a valid cryptocurrency.\")\n",
    "\n",
    "    # Fetch historical data using Yahoo Finance\n",
    "    try:\n",
    "        crypto_data = yf.download(symbol, start=start_date, end=end_date, progress=False)\n",
    "    except Exception as e:\n",
    "        raise Exception(f\"Failed to fetch data: {e}\")\n",
    "\n",
    "    if crypto_data.empty:\n",
    "        raise ValueError(f\"No data found for {crypto_name} in the selected date range.\")\n",
    "\n",
    "    # Flatten MultiIndex \n",
    "    if isinstance(crypto_data.columns, pd.MultiIndex):\n",
    "        crypto_data.columns = [\"_\".join(col).strip() for col in crypto_data.columns]\n",
    "\n",
    "    # Reset index and rename columns\n",
    "    crypto_data = crypto_data.reset_index()\n",
    "    expected_columns = {\n",
    "        \"Date\": \"Date\",\n",
    "        f\"Open_{crypto_name}\": \"open\",\n",
    "        f\"High_{crypto_name}\": \"high\",\n",
    "        f\"Low_{crypto_name}\": \"low\",\n",
    "        f\"Close_{crypto_name}\": \"close\",\n",
    "        f\"Adj Close_{crypto_name}\": \"adj_close\",\n",
    "        f\"Volume_{crypto_name}\": \"volume\",\n",
    "    }\n",
    "    crypto_data.rename(columns=expected_columns, inplace=True)\n",
    "\n",
    "    # only necessary columns\n",
    "    necessary_columns = [\"Date\", \"open\", \"high\", \"low\", \"close\", \"volume\"]\n",
    "    crypto_data = crypto_data[necessary_columns]\n",
    "\n",
    "    # Convert Date to datetime and remove the time component\n",
    "    crypto_data[\"Date\"] = pd.to_datetime(crypto_data[\"Date\"]).dt.date\n",
    "\n",
    "    # Ensure numeric columns\n",
    "    numeric_columns = [\"open\", \"high\", \"low\", \"close\", \"volume\"]\n",
    "    crypto_data[numeric_columns] = crypto_data[numeric_columns].apply(pd.to_numeric, errors=\"coerce\")\n",
    "\n",
    "    # Drop rows with missing or invalid data\n",
    "    crypto_data.dropna(subset=[\"Date\", \"open\", \"high\", \"low\", \"close\"], inplace=True)\n",
    "\n",
    "    \n",
    "    print(\"First few rows of the 'close' column:\")\n",
    "    print(crypto_data[\"close\"].head())\n",
    "\n",
    "    # Add moving averages\n",
    "    crypto_data[\"7-Day MA\"] = crypto_data[\"close\"].rolling(window=7).mean()\n",
    "    crypto_data[\"14-Day MA\"] = crypto_data[\"close\"].rolling(window=14).mean()\n",
    "    crypto_data[\"30-Day MA\"] = crypto_data[\"close\"].rolling(window=30).mean()\n",
    "\n",
    "    \n",
    "    print(\"\\nFirst 10 rows of the 7-Day MA computation:\")\n",
    "    print(crypto_data[[\"close\", \"7-Day MA\"]].head(10))\n",
    "\n",
    "    # Handle NaN values in Moving Averages using forward fill and backward fill\n",
    "    crypto_data[[\"7-Day MA\", \"14-Day MA\", \"30-Day MA\"]] = crypto_data[\n",
    "        [\"7-Day MA\", \"14-Day MA\", \"30-Day MA\"]\n",
    "    ].fillna(method=\"bfill\").fillna(method=\"ffill\")\n",
    "\n",
    "    return crypto_data"
   ]
  },
  {
   "cell_type": "code",
   "execution_count": 10,
   "id": "4259a359-4e75-4fbd-8384-0f78f841a637",
   "metadata": {},
   "outputs": [
    {
     "name": "stderr",
     "output_type": "stream",
     "text": [
      "[*********************100%***********************]  1 of 1 completed\n",
      "[*********************100%***********************]  1 of 1 completed\n",
      "[*********************100%***********************]  1 of 1 completed\n",
      "[*********************100%***********************]  1 of 1 completed\n",
      "[*********************100%***********************]  1 of 1 completed\n",
      "[*********************100%***********************]  1 of 1 completed\n",
      "[*********************100%***********************]  1 of 1 completed\n",
      "[*********************100%***********************]  1 of 1 completed\n",
      "[*********************100%***********************]  1 of 1 completed\n",
      "[*********************100%***********************]  1 of 1 completed\n",
      "[*********************100%***********************]  1 of 1 completed\n",
      "[*********************100%***********************]  1 of 1 completed"
     ]
    },
    {
     "name": "stdout",
     "output_type": "stream",
     "text": [
      "Downloading data for BTC-USD...\n",
      "Downloading data for ETH-USD...\n",
      "Downloading data for ADA-USD...\n",
      "Downloading data for BNB-USD...\n",
      "Downloading data for XRP-USD...\n",
      "Downloading data for SOL-USD...\n",
      "Downloading data for DOT-USD...\n",
      "Downloading data for DOGE-USD...\n",
      "Downloading data for MATIC-USD...\n",
      "Downloading data for LTC-USD...\n",
      "Downloading data for BCH-USD...\n",
      "Downloading data for TRX-USD...\n"
     ]
    },
    {
     "name": "stderr",
     "output_type": "stream",
     "text": [
      "\n",
      "[*********************100%***********************]  1 of 1 completed\n",
      "[*********************100%***********************]  1 of 1 completed\n",
      "[*********************100%***********************]  1 of 1 completed\n",
      "[*********************100%***********************]  1 of 1 completed\n",
      "[*********************100%***********************]  1 of 1 completed\n",
      "[*********************100%***********************]  1 of 1 completed\n",
      "[*********************100%***********************]  1 of 1 completed\n",
      "[*********************100%***********************]  1 of 1 completed\n",
      "[*********************100%***********************]  1 of 1 completed\n",
      "[*********************100%***********************]  1 of 1 completed\n",
      "[*********************100%***********************]  1 of 1 completed\n",
      "[*********************100%***********************]  1 of 1 completed\n"
     ]
    },
    {
     "name": "stdout",
     "output_type": "stream",
     "text": [
      "Downloading data for AVAX-USD...\n",
      "Downloading data for LINK-USD...\n",
      "Downloading data for ATOM-USD...\n",
      "Downloading data for XLM-USD...\n",
      "Downloading data for ALGO-USD...\n",
      "Downloading data for VET-USD...\n",
      "Downloading data for XTZ-USD...\n",
      "Downloading data for ARB-USD...\n",
      "Downloading data for OP-USD...\n",
      "Downloading data for APT-USD...\n",
      "Downloading data for SUI-USD...\n",
      "Downloading data for FTM-USD...\n",
      "Downloading data for NEAR-USD...\n"
     ]
    },
    {
     "name": "stderr",
     "output_type": "stream",
     "text": [
      "[*********************100%***********************]  1 of 1 completed\n",
      "/Users/anandhu336/Library/CloudStorage/OneDrive-SolentUniversity/COM724/data_fetcher.py:186: FutureWarning: DataFrame.fillna with 'method' is deprecated and will raise in a future version. Use obj.ffill() or obj.bfill() instead.\n",
      "  ].fillna(method=\"bfill\").fillna(method=\"ffill\")\n"
     ]
    },
    {
     "name": "stdout",
     "output_type": "stream",
     "text": [
      "Data for 30 cryptocurrencies (with Open, High, Low, Adj Close, Volume) saved to: crypto_complete_data_1_year.csv\n",
      "Cleaned dataset saved to: crypto_cleaned_data.csv\n",
      "First few rows of the 'close' column:\n",
      "0    16625.080078\n",
      "1    16688.470703\n",
      "2    16679.857422\n",
      "3    16863.238281\n",
      "4    16836.736328\n",
      "Name: close, dtype: float64\n",
      "\n",
      "First 10 rows of the 7-Day MA computation:\n",
      "          close      7-Day MA\n",
      "0  16625.080078           NaN\n",
      "1  16688.470703           NaN\n",
      "2  16679.857422           NaN\n",
      "3  16863.238281           NaN\n",
      "4  16836.736328           NaN\n",
      "5  16951.968750           NaN\n",
      "6  16955.078125  16800.061384\n",
      "7  17091.144531  16866.642020\n",
      "8  17196.554688  16939.225446\n",
      "9  17446.292969  17048.716239\n",
      "Cleaned Data:\n",
      "         Date          open          high           low         close  \\\n",
      "0  2023-01-01  16547.914062  16630.439453  16521.234375  16625.080078   \n",
      "1  2023-01-02  16625.509766  16759.343750  16572.228516  16688.470703   \n",
      "2  2023-01-03  16688.847656  16760.447266  16622.371094  16679.857422   \n",
      "3  2023-01-04  16680.205078  16964.585938  16667.763672  16863.238281   \n",
      "4  2023-01-05  16863.472656  16884.021484  16790.283203  16836.736328   \n",
      "\n",
      "        volume      7-Day MA     14-Day MA     30-Day MA  \n",
      "0   9244361700  16800.061384  17644.627093  20154.431966  \n",
      "1  12097775227  16800.061384  17644.627093  20154.431966  \n",
      "2  13903079207  16800.061384  17644.627093  20154.431966  \n",
      "3  18421743322  16800.061384  17644.627093  20154.431966  \n",
      "4  13692758566  16800.061384  17644.627093  20154.431966  \n",
      "Available columns in the dataset:\n",
      "['Date', 'open', 'high', 'low', 'close', 'volume', '7-Day MA', '14-Day MA', '30-Day MA']\n",
      "\n",
      "Number of NaN values in Moving Averages:\n",
      "7-Day MA     0\n",
      "14-Day MA    0\n",
      "30-Day MA    0\n",
      "dtype: int64\n",
      "First few rows of the 'close' column:\n",
      "0    16625.080078\n",
      "1    16688.470703\n",
      "2    16679.857422\n",
      "3    16863.238281\n",
      "4    16836.736328\n",
      "Name: close, dtype: float64\n",
      "\n",
      "First 10 rows of the 7-Day MA computation:\n",
      "          close      7-Day MA\n",
      "0  16625.080078           NaN\n",
      "1  16688.470703           NaN\n",
      "2  16679.857422           NaN\n",
      "3  16863.238281           NaN\n",
      "4  16836.736328           NaN\n",
      "5  16951.968750           NaN\n",
      "6  16955.078125  16800.061384\n",
      "7  17091.144531  16866.642020\n",
      "8  17196.554688  16939.225446\n",
      "9  17446.292969  17048.716239\n",
      "Cleaned Data:\n",
      "         Date          open          high           low         close  \\\n",
      "0  2023-01-01  16547.914062  16630.439453  16521.234375  16625.080078   \n",
      "1  2023-01-02  16625.509766  16759.343750  16572.228516  16688.470703   \n",
      "2  2023-01-03  16688.847656  16760.447266  16622.371094  16679.857422   \n",
      "3  2023-01-04  16680.205078  16964.585938  16667.763672  16863.238281   \n",
      "4  2023-01-05  16863.472656  16884.021484  16790.283203  16836.736328   \n",
      "\n",
      "        volume      7-Day MA     14-Day MA     30-Day MA  \n",
      "0   9244361700  16800.061384  17644.627093  20154.431966  \n",
      "1  12097775227  16800.061384  17644.627093  20154.431966  \n",
      "2  13903079207  16800.061384  17644.627093  20154.431966  \n",
      "3  18421743322  16800.061384  17644.627093  20154.431966  \n",
      "4  13692758566  16800.061384  17644.627093  20154.431966  \n",
      "Available columns in the dataset:\n",
      "['Date', 'open', 'high', 'low', 'close', 'volume', '7-Day MA', '14-Day MA', '30-Day MA']\n",
      "\n",
      "Number of NaN values in Moving Averages:\n",
      "7-Day MA     0\n",
      "14-Day MA    0\n",
      "30-Day MA    0\n",
      "dtype: int64\n"
     ]
    },
    {
     "name": "stderr",
     "output_type": "stream",
     "text": [
      "/Users/anandhu336/Library/CloudStorage/OneDrive-SolentUniversity/COM724/data_fetcher.py:186: FutureWarning: DataFrame.fillna with 'method' is deprecated and will raise in a future version. Use obj.ffill() or obj.bfill() instead.\n",
      "  ].fillna(method=\"bfill\").fillna(method=\"ffill\")\n"
     ]
    }
   ],
   "source": [
    "# Import necessary libraries\n",
    "import pandas as pd\n",
    "from data_fetcher import get_crypto_data_realtime\n",
    "\n",
    "# Fetch cryptocurrency data\n",
    "crypto_data = get_crypto_data_realtime(\n",
    "    crypto_name=\"BTC-USD\",\n",
    "    start_date=\"2023-01-01\",\n",
    "    end_date=\"2023-12-31\"\n",
    ")\n",
    "\n",
    "# Print the cleaned data\n",
    "print(\"Cleaned Data:\")\n",
    "print(crypto_data.head())\n",
    "print(\"Available columns in the dataset:\")\n",
    "print(list(crypto_data.columns))\n",
    "\n",
    "# Check for NaN values in moving averages\n",
    "nan_values = crypto_data[[\"7-Day MA\", \"14-Day MA\", \"30-Day MA\"]].isna().sum()\n",
    "\n",
    "# Print the number of NaN values in moving averages\n",
    "print(\"\\nNumber of NaN values in Moving Averages:\")\n",
    "print(nan_values)"
   ]
  },
  {
   "cell_type": "code",
   "execution_count": null,
   "id": "ebbd991b-9ce8-4737-8cd0-23b5c7166e51",
   "metadata": {},
   "outputs": [],
   "source": []
  }
 ],
 "metadata": {
  "kernelspec": {
   "display_name": "COM724",
   "language": "python",
   "name": "com724"
  },
  "language_info": {
   "codemirror_mode": {
    "name": "ipython",
    "version": 3
   },
   "file_extension": ".py",
   "mimetype": "text/x-python",
   "name": "python",
   "nbconvert_exporter": "python",
   "pygments_lexer": "ipython3",
   "version": "3.11.10"
  }
 },
 "nbformat": 4,
 "nbformat_minor": 5
}
